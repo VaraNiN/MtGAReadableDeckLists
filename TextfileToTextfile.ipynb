{
 "cells": [
  {
   "cell_type": "code",
   "execution_count": 1,
   "metadata": {},
   "outputs": [],
   "source": [
    "# THIS IS AMATEUR CODE - USE AT YOUR OWN RISK!!!\n",
    "# DO NOT EXECUTE CODE AN INTERNET STRANGER GAVE YOU WITHOUT READING WHAT IT DOES FIRST!\n",
    "# THEREFORE, PLEASE DO SO! I AM NOT RESPONSIBLE IF YOUR COMPUTER BREAKS!\n",
    "\n",
    "# Select Input File \n",
    "# YOU WILL HAVE TO CHANGE THIS!!\n",
    "File = \"1\"\n",
    "Path = \"C:\\\\Users\\\\W0lF\\\\Desktop\\\\Decklists\\\\To Read\\\\\"+File+\".txt\"\n",
    "Output = \"C:\\\\Users\\\\W0lF\\\\Desktop\\\\Decklists\\\\Converted\\\\\"+File+\".txt\"\n",
    "Reddit = \"C:\\\\Users\\\\W0lF\\\\Desktop\\\\Decklists\\\\Converted\\\\\"+File+\"-Reddit.txt\""
   ]
  },
  {
   "cell_type": "code",
   "execution_count": 2,
   "metadata": {},
   "outputs": [],
   "source": [
    "# Read Comment\n",
    "with open(Path) as f:\n",
    "    Original = f.read().split(\"\\n\")\n",
    "f.close()\n",
    "\n",
    "n = len(Original)\n",
    "Formated = []\n",
    "\n",
    "# Get an MtG:A importable format \n",
    "if Original[0] != 'Deck':\n",
    "    Formated.append('Deck')\n",
    "for i in range(n):\n",
    "    if (Original[i] != ''):\n",
    "        if (Original[i] == 'Sideboard'):\n",
    "            Formated.append('')\n",
    "        Formated.append(Original[i].split(\"(\", 1)[0])\n",
    "\n",
    "# Write raw list in a new .txt file\n",
    "with open(Output, 'w') as fp:\n",
    "    for item in Formated:\n",
    "        fp.write(\"%s  \\n\" % item)\n",
    "fp.close()\n",
    "\n",
    "# Write reddit comment in a new .txt file\n",
    "with open(Reddit, 'w') as fr:\n",
    "    fr.write(\"MtG:A importable deck list:\\n___________________\\n\\n\")   \n",
    "    for item in Formated:\n",
    "        fr.write(\"%s  \\n\" % item)\n",
    "    fr.write(\"____________________________\\n^^I ^^am ^^not ^^a ^^robot. ^^I ^^am ^^a ^^human ^^volunteer ^^to ^^help ^^make ^^deck ^^lists ^^posted ^^on ^^reddit ^^more ^^machine ^^readable.\\n\\n\") \n",
    "    fr.write(\"^^Please ^^put ^^two ^^space ^^bars ^^after ^^each ^^card ^^before ^^hitting ^^enter. ^^Alternatively, ^^you ^^can ^^also ^^put ^^4 ^^space ^^bars ^^_before_ ^^each ^^card.  \\n\")\n",
    "    fr.write(\"^^This ^^way, ^^the ^^deck ^^list ^^from ^^your ^^comment ^^becomes ^^importable  ^^to ^^the ^^MtG:A ^^client.\\n\\n\")\n",
    "    fr.write(\"^^If ^^you ^^want ^^to ^^help ^^with ^^this ^^endeavour, ^^or ^^simply ^^want ^^a ^^quick ^^way ^^to ^^make ^^your ^^exported ^^deck ^^readable ^^on ^^reddit, [^^the ^^python ^^code ^^used ^^to ^^create ^^this ^^comment ^^can ^^be ^^found ^^here!](https://github.com/VaraNiN/MtGAReadableDeckLists)\")\n",
    "fr.close()"
   ]
  }
 ],
 "metadata": {
  "kernelspec": {
   "display_name": "Python 3",
   "language": "python",
   "name": "python3"
  },
  "language_info": {
   "codemirror_mode": {
    "name": "ipython",
    "version": 3
   },
   "file_extension": ".py",
   "mimetype": "text/x-python",
   "name": "python",
   "nbconvert_exporter": "python",
   "pygments_lexer": "ipython3",
   "version": "3.7.0"
  }
 },
 "nbformat": 4,
 "nbformat_minor": 5
}
